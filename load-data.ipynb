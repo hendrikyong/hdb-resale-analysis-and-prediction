{
 "cells": [
  {
   "cell_type": "code",
   "execution_count": 53,
   "metadata": {},
   "outputs": [],
   "source": [
    "#imports \n",
    "import pandas as pd \n",
    "import matplotlib as plt \n",
    "import numpy as np\n",
    "from datetime import datetime"
   ]
  },
  {
   "cell_type": "code",
   "execution_count": 54,
   "metadata": {},
   "outputs": [],
   "source": [
    "#load data\n",
    "prices1999 = pd.read_csv('data-csv/ResaleFlatPricesBasedonApprovalDate19901999.csv')\n",
    "prices2012 = pd.read_csv('data-csv/ResaleFlatPricesBasedonApprovalDate2000Feb2012.csv')\n",
    "prices2014 = pd.read_csv('data-csv/ResaleFlatPricesBasedonRegistrationDateFromMar2012toDec2014.csv')\n",
    "prices2017 = pd.read_csv('data-csv/ResaleflatpricesbasedonregistrationdatefromJan2017onwards.csv')"
   ]
  },
  {
   "cell_type": "code",
   "execution_count": 55,
   "metadata": {},
   "outputs": [],
   "source": [
    "#need to combine all the data (drop street name)\n",
    "df1999 = prices1999\n",
    "df2012 = prices2012\n",
    "df2014 = prices2014\n",
    "df2017 = prices2017\n",
    "\n",
    "#drop remaining lease column (because only >2017 has this column will recalc later)\n",
    "df2017.drop('remaining_lease', axis='columns', inplace=True)\n",
    "df = pd.concat([df1999,df2012,df2014,df2017],ignore_index=True)"
   ]
  },
  {
   "cell_type": "code",
   "execution_count": 56,
   "metadata": {},
   "outputs": [],
   "source": [
    "#i dont want to use block number to train model\n",
    "#i also dont want to use street name will generalise just under town\n",
    "df.drop('block', axis='columns', inplace=True)\n",
    "df.drop('street_name', axis='columns', inplace=True)"
   ]
  },
  {
   "cell_type": "code",
   "execution_count": 57,
   "metadata": {},
   "outputs": [],
   "source": [
    "current_year = datetime.now().year\n",
    "df['remaining_lease (years)'] = 99 - (current_year - df.lease_commence_date) \n",
    "df.drop('lease_commence_date',axis='columns',inplace=True)"
   ]
  }
 ],
 "metadata": {
  "kernelspec": {
   "display_name": "Python 3",
   "language": "python",
   "name": "python3"
  },
  "language_info": {
   "codemirror_mode": {
    "name": "ipython",
    "version": 3
   },
   "file_extension": ".py",
   "mimetype": "text/x-python",
   "name": "python",
   "nbconvert_exporter": "python",
   "pygments_lexer": "ipython3",
   "version": "3.11.3"
  }
 },
 "nbformat": 4,
 "nbformat_minor": 2
}
