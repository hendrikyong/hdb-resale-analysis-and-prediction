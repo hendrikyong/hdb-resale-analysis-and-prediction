{
 "cells": [
  {
   "cell_type": "code",
   "execution_count": 2,
   "metadata": {},
   "outputs": [],
   "source": [
    "#imports \n",
    "import pandas as pd \n",
    "import matplotlib as plt "
   ]
  },
  {
   "cell_type": "code",
   "execution_count": 6,
   "metadata": {},
   "outputs": [],
   "source": [
    "#load data\n",
    "prices1999 = pd.read_csv('data-csv/ResaleFlatPricesBasedonApprovalDate19901999.csv')\n",
    "prices2012 = pd.read_csv('data-csv/ResaleFlatPricesBasedonApprovalDate2000Feb2012.csv')\n",
    "prices2014 = pd.read_csv('data-csv/ResaleFlatPricesBasedonRegistrationDateFromMar2012toDec2014.csv')\n",
    "prices2017 = pd.read_csv('data-csv/ResaleflatpricesbasedonregistrationdatefromJan2017onwards.csv')"
   ]
  }
 ],
 "metadata": {
  "kernelspec": {
   "display_name": "Python 3",
   "language": "python",
   "name": "python3"
  },
  "language_info": {
   "codemirror_mode": {
    "name": "ipython",
    "version": 3
   },
   "file_extension": ".py",
   "mimetype": "text/x-python",
   "name": "python",
   "nbconvert_exporter": "python",
   "pygments_lexer": "ipython3",
   "version": "3.11.3"
  }
 },
 "nbformat": 4,
 "nbformat_minor": 2
}
